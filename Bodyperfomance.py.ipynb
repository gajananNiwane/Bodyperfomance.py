{
 "cells": [
  {
   "cell_type": "code",
   "execution_count": 1,
   "id": "380d575d",
   "metadata": {},
   "outputs": [],
   "source": [
    "import pandas as pd\n"
   ]
  },
  {
   "cell_type": "code",
   "execution_count": 4,
   "id": "f5b219b5",
   "metadata": {},
   "outputs": [],
   "source": [
    "datas=pd.read_csv(\"C:\\\\Users\\\\Ankush Niwane\\\\Downloads\\\\bodyPerformance.csv\",usecols=('age','height_cm','weight_kg'))"
   ]
  },
  {
   "cell_type": "code",
   "execution_count": 5,
   "id": "74a3e432",
   "metadata": {},
   "outputs": [
    {
     "data": {
      "text/html": [
       "<div>\n",
       "<style scoped>\n",
       "    .dataframe tbody tr th:only-of-type {\n",
       "        vertical-align: middle;\n",
       "    }\n",
       "\n",
       "    .dataframe tbody tr th {\n",
       "        vertical-align: top;\n",
       "    }\n",
       "\n",
       "    .dataframe thead th {\n",
       "        text-align: right;\n",
       "    }\n",
       "</style>\n",
       "<table border=\"1\" class=\"dataframe\">\n",
       "  <thead>\n",
       "    <tr style=\"text-align: right;\">\n",
       "      <th></th>\n",
       "      <th>age</th>\n",
       "      <th>height_cm</th>\n",
       "      <th>weight_kg</th>\n",
       "    </tr>\n",
       "  </thead>\n",
       "  <tbody>\n",
       "    <tr>\n",
       "      <th>0</th>\n",
       "      <td>27.0</td>\n",
       "      <td>172.3</td>\n",
       "      <td>75.24</td>\n",
       "    </tr>\n",
       "    <tr>\n",
       "      <th>1</th>\n",
       "      <td>25.0</td>\n",
       "      <td>165.0</td>\n",
       "      <td>55.80</td>\n",
       "    </tr>\n",
       "    <tr>\n",
       "      <th>2</th>\n",
       "      <td>31.0</td>\n",
       "      <td>179.6</td>\n",
       "      <td>78.00</td>\n",
       "    </tr>\n",
       "    <tr>\n",
       "      <th>3</th>\n",
       "      <td>32.0</td>\n",
       "      <td>174.5</td>\n",
       "      <td>71.10</td>\n",
       "    </tr>\n",
       "    <tr>\n",
       "      <th>4</th>\n",
       "      <td>28.0</td>\n",
       "      <td>173.8</td>\n",
       "      <td>67.70</td>\n",
       "    </tr>\n",
       "  </tbody>\n",
       "</table>\n",
       "</div>"
      ],
      "text/plain": [
       "    age  height_cm  weight_kg\n",
       "0  27.0      172.3      75.24\n",
       "1  25.0      165.0      55.80\n",
       "2  31.0      179.6      78.00\n",
       "3  32.0      174.5      71.10\n",
       "4  28.0      173.8      67.70"
      ]
     },
     "execution_count": 5,
     "metadata": {},
     "output_type": "execute_result"
    }
   ],
   "source": [
    "datas.head()"
   ]
  },
  {
   "cell_type": "code",
   "execution_count": 6,
   "id": "c5653259",
   "metadata": {},
   "outputs": [
    {
     "data": {
      "text/plain": [
       "age          0\n",
       "height_cm    0\n",
       "weight_kg    0\n",
       "dtype: int64"
      ]
     },
     "execution_count": 6,
     "metadata": {},
     "output_type": "execute_result"
    }
   ],
   "source": [
    "datas.isnull().sum()"
   ]
  },
  {
   "cell_type": "code",
   "execution_count": 12,
   "id": "30fbd8b7",
   "metadata": {},
   "outputs": [],
   "source": [
    "#scaling data\n",
    "from sklearn.preprocessing import StandardScaler\n",
    "le=StandardScaler()\n",
    "datas1=le.fit_transform(datas)"
   ]
  },
  {
   "cell_type": "code",
   "execution_count": 13,
   "id": "d520b81f",
   "metadata": {},
   "outputs": [
    {
     "data": {
      "text/plain": [
       "array([[-0.71743212,  0.44387298,  0.65215002],\n",
       "       [-0.8642197 , -0.42246548, -0.97473438],\n",
       "       [-0.42385695,  1.31021144,  0.88312744],\n",
       "       ...,\n",
       "       [ 0.16329338,  1.02538783,  1.09234611],\n",
       "       [ 1.99813815, -2.66545136, -0.81572819],\n",
       "       [-0.20367558, -0.54114198, -0.11275345]])"
      ]
     },
     "execution_count": 13,
     "metadata": {},
     "output_type": "execute_result"
    }
   ],
   "source": [
    "datas1"
   ]
  },
  {
   "cell_type": "code",
   "execution_count": 47,
   "id": "941cfe35",
   "metadata": {},
   "outputs": [],
   "source": [
    "#reducsing data\n",
    "from sklearn.decomposition import PCA\n",
    "less=PCA(n_components=2)\n",
    "rs=less.fit_transform(datas1)"
   ]
  },
  {
   "cell_type": "code",
   "execution_count": 25,
   "id": "e28b654d",
   "metadata": {},
   "outputs": [],
   "source": [
    "from sklearn.cluster import KMeans\n",
    "mssc=[]\n",
    "mapping={}\n",
    "K=range(1,11)\n",
    "for k in K:\n",
    "    model=KMeans(n_clusters=k)\n",
    "    model.fit(rs)\n",
    "    mssc.append(model.inertia_)\n",
    "    mapping[k]=model.inertia_"
   ]
  },
  {
   "cell_type": "code",
   "execution_count": 27,
   "id": "6c71fd18",
   "metadata": {},
   "outputs": [
    {
     "name": "stdout",
     "output_type": "stream",
     "text": [
      "1 ; 36983.87733103958\n",
      "2 ; 20174.696284645946\n",
      "3 ; 12866.218941769206\n",
      "4 ; 9438.240616296673\n",
      "5 ; 7052.479362101091\n",
      "6 ; 6140.681223313535\n",
      "7 ; 5309.342338406403\n",
      "8 ; 4697.03637458989\n",
      "9 ; 4159.366101308915\n",
      "10 ; 3726.517168482809\n"
     ]
    }
   ],
   "source": [
    "for i,j in mapping.items():\n",
    "    print(i,';',j)"
   ]
  },
  {
   "cell_type": "code",
   "execution_count": 41,
   "id": "666a0969",
   "metadata": {},
   "outputs": [
    {
     "data": {
      "image/png": "[encoded data removed]",
      "text/plain": [
       "<Figure size 432x288 with 1 Axes>"
      ]
     },
     "metadata": {
      "needs_background": "light"
     },
     "output_type": "display_data"
    }
   ],
   "source": [
    "import matplotlib.pyplot as plt\n",
    "plt.plot(K,mssc,'-r^')\n",
    "plt.plot([3,3],[5000,35000],linestyle='--')\n",
    "plt.text(3,20000,'k=3',fontdict={'family':'serif','size':16})\n",
    "plt.show()"
   ]
  },
  {
   "cell_type": "code",
   "execution_count": 39,
   "id": "520a8d93",
   "metadata": {},
   "outputs": [
    {
     "data": {
      "text/plain": [
       "3"
      ]
     },
     "execution_count": 39,
     "metadata": {},
     "output_type": "execute_result"
    }
   ],
   "source": [
    "from kneed import KneeLocator\n",
    "le=KneeLocator(range(1,11),mssc,curve='convex',direction='decreasing')\n",
    "le.elbow"
   ]
  },
  {
   "cell_type": "code",
   "execution_count": 42,
   "id": "21ea5657",
   "metadata": {},
   "outputs": [
    {
     "data": {
      "text/plain": [
       "array([0, 2, 0, ..., 0, 1, 2])"
      ]
     },
     "execution_count": 42,
     "metadata": {},
     "output_type": "execute_result"
    }
   ],
   "source": [
    "modelk=KMeans(n_clusters=3)\n",
    "modelk.fit(rs)\n",
    "preds=modelk.predict(rs)\n",
    "preds"
   ]
  },
  {
   "cell_type": "code",
   "execution_count": 44,
   "id": "2fc38682",
   "metadata": {},
   "outputs": [],
   "source": [
    "\n",
    "ds=pd.DataFrame()\n",
    "ds['PC1']=rs[:,0]\n",
    "ds['PC2']=rs[:,1]\n",
    "ds['target']=preds"
   ]
  },
  {
   "cell_type": "code",
   "execution_count": 45,
   "id": "42454c4c",
   "metadata": {},
   "outputs": [
    {
     "data": {
      "text/html": [
       "<div>\n",
       "<style scoped>\n",
       "    .dataframe tbody tr th:only-of-type {\n",
       "        vertical-align: middle;\n",
       "    }\n",
       "\n",
       "    .dataframe tbody tr th {\n",
       "        vertical-align: top;\n",
       "    }\n",
       "\n",
       "    .dataframe thead th {\n",
       "        text-align: right;\n",
       "    }\n",
       "</style>\n",
       "<table border=\"1\" class=\"dataframe\">\n",
       "  <thead>\n",
       "    <tr style=\"text-align: right;\">\n",
       "      <th></th>\n",
       "      <th>PC1</th>\n",
       "      <th>PC2</th>\n",
       "      <th>target</th>\n",
       "    </tr>\n",
       "  </thead>\n",
       "  <tbody>\n",
       "    <tr>\n",
       "      <th>0</th>\n",
       "      <td>-0.960395</td>\n",
       "      <td>-0.388000</td>\n",
       "      <td>0</td>\n",
       "    </tr>\n",
       "    <tr>\n",
       "      <th>1</th>\n",
       "      <td>0.645242</td>\n",
       "      <td>-1.193794</td>\n",
       "      <td>2</td>\n",
       "    </tr>\n",
       "    <tr>\n",
       "      <th>2</th>\n",
       "      <td>-1.612651</td>\n",
       "      <td>0.048061</td>\n",
       "      <td>0</td>\n",
       "    </tr>\n",
       "    <tr>\n",
       "      <th>3</th>\n",
       "      <td>-0.797132</td>\n",
       "      <td>-0.149084</td>\n",
       "      <td>0</td>\n",
       "    </tr>\n",
       "    <tr>\n",
       "      <th>4</th>\n",
       "      <td>-0.649823</td>\n",
       "      <td>-0.532148</td>\n",
       "      <td>0</td>\n",
       "    </tr>\n",
       "  </tbody>\n",
       "</table>\n",
       "</div>"
      ],
      "text/plain": [
       "        PC1       PC2  target\n",
       "0 -0.960395 -0.388000       0\n",
       "1  0.645242 -1.193794       2\n",
       "2 -1.612651  0.048061       0\n",
       "3 -0.797132 -0.149084       0\n",
       "4 -0.649823 -0.532148       0"
      ]
     },
     "execution_count": 45,
     "metadata": {},
     "output_type": "execute_result"
    }
   ],
   "source": [
    "ds.head()"
   ]
  },
  {
   "cell_type": "code",
   "execution_count": 48,
   "id": "a091deee",
   "metadata": {},
   "outputs": [
    {
     "data": {
      "image/png": "[encoded data removed]",
      "text/plain": [
       "<Figure size 432x288 with 1 Axes>"
      ]
     },
     "metadata": {
      "needs_background": "light"
     },
     "output_type": "display_data"
    }
   ],
   "source": [
    "from matplotlib.lines import Line2D\n",
    "cluster_colors={0:'tab:red',1:'tab:orange',2:'tab:green',3:'tab:blue'}\n",
    "cluster_dict={'Centroid':'tab:pink','Cluster0':'tab:red','Cluster1':'tab:orange','Cluster2':'tab:green'}\n",
    "\n",
    "\n",
    "plt.scatter(x=ds['PC1'],y=ds['PC2'],c=ds['target'].map(cluster_colors))\n",
    "\n",
    "handles=[Line2D([0],[0],marker='o',color='w',markerfacecolor=v,label=k,markersize=8)for k,v in cluster_dict.items()]\n",
    "plt.legend(title='color',handles=handles,bbox_to_anchor=(1.05,1),loc='upper left')\n",
    "\n",
    "\n",
    "# for centriod visultion\n",
    "plt.scatter(x=modelk.cluster_centers_[:,0],y=modelk.cluster_centers_[:,1],marker='o',c='tab:pink',s=120,alpha=1)\n",
    "\n",
    "plt.title('cluster number and label',fontdict={'family':'serif','size':17})\n",
    "plt.xlabel('pc1',fontdict={'family':'serif','size':16})\n",
    "plt.ylabel('pc2',fontdict={'family':'serif','size':17})\n",
    "plt.show()"
   ]
  }
 ],
 "metadata": {
  "kernelspec": {
   "display_name": "Python 3 (ipykernel)",
   "language": "python",
   "name": "python3"
  },
  "language_info": {
   "codemirror_mode": {
    "name": "ipython",
    "version": 3
   },
   "file_extension": ".py",
   "mimetype": "text/x-python",
   "name": "python",
   "nbconvert_exporter": "python",
   "pygments_lexer": "ipython3",
   "version": "3.8.12"
  }
 },
 "nbformat": 4,
 "nbformat_minor": 5
}
